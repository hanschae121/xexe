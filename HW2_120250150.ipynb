{
 "cells": [
  {
   "cell_type": "markdown",
   "id": "bd9ee27e",
   "metadata": {},
   "source": [
    "# Homework 2: 기계학습 응용\n",
    "\n",
    "Author: GPT 자동 생성\n",
    "\n",
    "---"
   ]
  },
  {
   "cell_type": "markdown",
   "id": "5e85db4e",
   "metadata": {},
   "source": [
    "## 1. D2L Chapter 3\n",
    "[D2L 책](https://d2l.ai/chapter_linear-regression/index.html)의 선형 회귀 챕터를 읽고 예제 코드를 따라 실행했습니다. 이어서 Ohm's Law 실험을 진행합니다."
   ]
  },
  {
   "cell_type": "markdown",
   "id": "a87a42ea",
   "metadata": {},
   "source": [
    "## 2. Ohm's Law 실험: 전압-전류 관계 모델링\n",
    "측정된 전류(`current`)와 전압(`voltage`) 데이터를 기반으로 다음 세 가지 모델을 최소제곱법(Least Mean Squares Regression)으로 학습합니다.\n",
    "\n",
    "1. **이차 모델**: $V = c + rI + qI^2$\n",
    "2. **선형 모델**: $V = c + rI$\n",
    "3. **Ohm's Law (편향 없음)**: $V = rI$"
   ]
  },
  {
   "cell_type": "code",
   "execution_count": null,
   "id": "51a42f3b",
   "metadata": {},
   "outputs": [],
   "source": [
    "import torch\n",
    "import torch.nn as nn\n",
    "import torch.optim as optim\n",
    "import matplotlib.pyplot as plt"
   ]
  },
  {
   "cell_type": "code",
   "execution_count": null,
   "id": "a1bf84c2",
   "metadata": {},
   "outputs": [],
   "source": [
    "# Current and voltage data\n",
    "current = torch.tensor([1.5420291, 1.8935232, 2.1603365, 2.5381863, 2.893443, \n",
    "                    3.838855, 3.925425, 4.2233696, 4.235571, 4.273397, \n",
    "                    4.9332876, 6.4704757, 6.517571, 6.87826, 7.0009003, \n",
    "                    7.035741, 7.278681, 7.7561755, 9.121138, 9.728281])\n",
    "voltage = torch.tensor([63.802246, 80.036026, 91.4903, 108.28776, 122.781975, \n",
    "                    161.36314, 166.50816, 176.16772, 180.29395, 179.09758, \n",
    "                    206.21027, 272.71857, 272.24033, 289.54745, 293.8488, \n",
    "                    295.2281, 306.62274, 327.93243, 383.16296, 408.65967])"
   ]
  },
  {
   "cell_type": "code",
   "execution_count": null,
   "id": "84f0104d",
   "metadata": {},
   "outputs": [],
   "source": [
    "# Dictionary for losses and results\n",
    "losses_dict = {}\n",
    "results_dict = {}\n",
    "\n",
    "# Training function definition\n",
    "def train_model(model_fn, params, name):\n",
    "    optimizer = optim.LBFGS(params, lr=1.0, max_iter=500)\n",
    "    losses = []\n",
    "\n",
    "    def closure():\n",
    "        optimizer.zero_grad()\n",
    "        preds = model_fn(current)\n",
    "        loss = torch.mean((preds - voltage) ** 2)\n",
    "        loss.backward()\n",
    "        losses.append(loss.item())\n",
    "        return loss\n",
    "\n",
    "    for _ in range(20):\n",
    "        optimizer.step(closure)\n",
    "\n",
    "    final_loss = losses[-1]\n",
    "    final_params = [p.item() for p in params]\n",
    "\n",
    "    losses_dict[name] = losses\n",
    "    results_dict[name] = {\n",
    "        \"loss\": final_loss,\n",
    "        \"params\": final_params,\n",
    "        \"pred\": model_fn(current).detach()\n",
    "    }\n",
    "\n",
    "    print(f\"📌 [{name}] 최종 손실: {final_loss:.4f}\")\n",
    "    print(f\"   학습된 파라미터: {final_params}\")\n",
    "    return results_dict[name][\"pred\"]\n"
   ]
  },
  {
   "cell_type": "code",
   "execution_count": null,
   "id": "a53e6555",
   "metadata": {},
   "outputs": [],
   "source": [
    "# Model definitions and training\n",
    "\n",
    "# 이차 모델: V = c + rI + qI^2\n",
    "c1, r1, q1 = [torch.randn(1, requires_grad=True) for _ in range(3)]\n",
    "quad_model = lambda x: c1 + r1 * x + q1 * x ** 2\n",
    "quad_pred = train_model(quad_model, [c1, r1, q1], \"이차 모델\")\n",
    "\n",
    "# 선형 모델: V = c + rI\n",
    "c2, r2 = [torch.randn(1, requires_grad=True) for _ in range(2)]\n",
    "lin_model = lambda x: c2 + r2 * x\n",
    "lin_pred = train_model(lin_model, [c2, r2], \"선형 모델\")\n",
    "\n",
    "# Ohm의 법칙: V = rI\n",
    "r3 = torch.randn(1, requires_grad=True)\n",
    "ohm_model = lambda x: r3 * x\n",
    "ohm_pred = train_model(ohm_model, [r3], \"Ohm의 법칙\")"
   ]
  },
  {
   "cell_type": "markdown",
   "id": "d8a31d6f",
   "metadata": {},
   "source": [
    "## 3. 보너스 문제: Wien의 근사법을 이용한 Temperature 추정\n",
    "\n",
    "흑체(black body)의 복사 스펙트럼은 Temperature에 따라 달라지며, Wien의 근사식을 이용하면 주어진 Wavelength에서의 방사 에너지로부터 Temperature를 유추할 수 있다.\n",
    "\n",
    "Wien의 근사식은 다음과 같다:\n",
    "\n",
    "\\[\n",
    "B_\\lambda(T) = \\frac{2 h c^2}{\\lambda^5} \\exp\\left(-\\frac{h c}{\\lambda k T}\\right)\n",
    "\\]\n",
    "\n",
    "여기서:\n",
    "- \\( B_\\lambda \\): Wavelength λ에서의 스펙트럼 Spectral Radiance\n",
    "- \\( h \\): 플랑크 상수\n",
    "- \\( c \\): 빛의 속도\n",
    "- \\( k \\): 볼츠만 상수\n",
    "- \\( T \\): Temperature\n",
    "\n",
    "이번 문제에서는 PyTorch를 이용해 주어진 방사 스펙트럼 데이터를 바탕으로 흑체의 Temperature를 추정한다."
   ]
  },
  {
   "cell_type": "code",
   "execution_count": null,
   "id": "754ab592",
   "metadata": {},
   "outputs": [],
   "source": [
    "import torch\n",
    "import matplotlib.pyplot as plt\n",
    "\n",
    "# Constant definitions\n",
    "c = 299792458                 # 빛의 속도 (m/s)\n",
    "h = 6.62607004e-34            # 플랑크 상수 (J·s)\n",
    "k = 1.38064852e-23            # 볼츠만 상수 (J/K)\n",
    "lamscale = 1e-6               # μm 단위를 m로 변환하기 위한 스케일\n",
    "\n",
    "# Wien 근사식 정의\n",
    "p_out = 2 * h * c**2 / lamscale**5\n",
    "p_in = (h / k) * (c / lamscale)\n",
    "\n",
    "def wien(lam, t):\n",
    "    return (p_out / lam**5) * torch.exp(-p_in / (lam * t))"
   ]
  },
  {
   "cell_type": "markdown",
   "id": "31683f5c",
   "metadata": {},
   "source": [
    "### 3-1. 측정 데이터 생성\n",
    "True Temperature가 273K인 흑체를 가정하고, 3μm ~ 19μm의 Wavelength에서 Spectral Radiance를 측정했다고 가정한다. 센서의 오차를 반영하기 위해 노이즈를 추가한다."
   ]
  },
  {
   "cell_type": "code",
   "execution_count": null,
   "id": "d67ce30a",
   "metadata": {},
   "outputs": [],
   "source": [
    "# 실제 온도\n",
    "realtemp = 273\n",
    "\n",
    "# 파장 범위 (μm)\n",
    "wavelengths = torch.arange(3, 20, 2)\n",
    "\n",
    "# Simulated measurements (노이즈 포함)\n",
    "delta = torch.randn(len(wavelengths)) * 0.5\n",
    "radiance = wien(wavelengths + delta, realtemp)\n",
    "\n",
    "# 측정값 시각화\n",
    "plt.plot(wavelengths.numpy(), radiance.numpy(), 'ko-', label='측정값')\n",
    "plt.plot(wavelengths.numpy(), wien(wavelengths, realtemp).detach().numpy(), 'b--', label='실제 (273K)')\n",
    "plt.xlabel(\"파장 (μm)\")\n",
    "plt.ylabel(\"복사 에너지\")\n",
    "plt.title(\"측정값 vs 실제 스펙트럼\")\n",
    "plt.legend()\n",
    "plt.grid(True, linestyle='--', alpha=0.6)\n",
    "plt.tight_layout()\n",
    "plt.show()"
   ]
  },
  {
   "cell_type": "markdown",
   "id": "25413de1",
   "metadata": {},
   "source": [
    "### 3-2. Temperature 추정\n",
    "Wavelength에 따른 Spectral Radiance Measured을 이용해 PyTorch로 Temperature를 추정한다.\n",
    "초기 Temperature는 200K로 두고, 최적화를 통해 True Temperature에 근접하도록 한다.\n",
    "Loss 함수는 로그 기반 MSE를 사용한다."
   ]
  },
  {
   "cell_type": "code",
   "execution_count": null,
   "id": "9792e940",
   "metadata": {},
   "outputs": [],
   "source": [
    "# Temperature parameter to optimize\n",
    "T = torch.nn.Parameter(torch.tensor([200.0]))\n",
    "\n",
    "# Optimizer\n",
    "optimizer = torch.optim.LBFGS([T], lr=0.3, max_iter=100, line_search_fn='strong_wolfe')\n",
    "\n",
    "# Log-based loss function\n",
    "def log_loss(y_pred, y_true):\n",
    "    return torch.mean((torch.log(y_pred) - torch.log(y_true))**2)\n",
    "\n",
    "# Optimization loop\n",
    "losses = []\n",
    "\n",
    "def closure():\n",
    "    optimizer.zero_grad()\n",
    "    pred = wien(wavelengths, T)\n",
    "    loss = log_loss(pred, radiance)\n",
    "    loss.backward()\n",
    "    losses.append(loss.item())\n",
    "    return loss\n",
    "\n",
    "for _ in range(15):\n",
    "    optimizer.step(closure)\n",
    "\n",
    "print(f\"예측된 온도: {T.item():.2f}K / 실제 온도: {realtemp}K\")\n",
    "print(f\"최종 손실 값: {losses[-1]:.6f}\")"
   ]
  },
  {
   "cell_type": "markdown",
   "id": "f24c3b23",
   "metadata": {},
   "source": [
    "### 3-3. 결과 Visualization"
   ]
  },
  {
   "cell_type": "code",
   "execution_count": null,
   "id": "edd00b01",
   "metadata": {},
   "outputs": [],
   "source": [
    "# Prediction calculation\n",
    "with torch.no_grad():\n",
    "    estimated = wien(wavelengths, T)\n",
    "    true_radiance = wien(wavelengths, realtemp)\n",
    "\n",
    "# Loss decrease visualization\n",
    "plt.figure(figsize=(6, 4))\n",
    "plt.plot(losses, marker='o')\n",
    "plt.title(\"손실 감소 추이\")\n",
    "plt.xlabel(\"반복\")\n",
    "plt.ylabel(\"로그 손실\")\n",
    "plt.grid(True)\n",
    "plt.tight_layout()\n",
    "plt.show()\n",
    "\n",
    "# Comparison graph of spectral radiance\n",
    "plt.figure(figsize=(8, 5))\n",
    "plt.plot(wavelengths.numpy(), radiance.numpy(), 'ko-', label=\"측정값\")\n",
    "plt.plot(wavelengths.numpy(), estimated.numpy(), 'r--', label=f\"추정 (T={T.item():.1f}K)\")\n",
    "plt.plot(wavelengths.numpy(), true_radiance.numpy(), 'b:', label=\"실제 (273K)\")\n",
    "\n",
    "plt.text(0.03, 0.97, f\"예측 T = {T.item():.2f}K\\n최종 손실 = {losses[-1]:.4e}\",\n",
    "         transform=plt.gca().transAxes,\n",
    "         fontsize=12, verticalalignment='top',\n",
    "         bbox=dict(boxstyle=\"round\", facecolor=\"white\", alpha=0.8))\n",
    "\n",
    "plt.xlabel(\"파장 (μm)\")\n",
    "plt.ylabel(\"복사 에너지\")\n",
    "plt.title(\"복사 스펙트럼 비교\")\n",
    "plt.legend()\n",
    "plt.grid(True)\n",
    "plt.tight_layout()\n",
    "plt.show()"
   ]
  }
 ],
 "metadata": {},
 "nbformat": 4,
 "nbformat_minor": 5
}
